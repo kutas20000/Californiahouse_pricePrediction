{
 "cells": [
  {
   "cell_type": "code",
   "execution_count": 10,
   "metadata": {},
   "outputs": [],
   "source": [
    " import numpy as np\n",
    "import pandas as pd\n",
    "import matplotlib.pyplot as plt\n",
    "import warnings"
   ]
  },
  {
   "cell_type": "code",
   "execution_count": 2,
   "metadata": {},
   "outputs": [
    {
     "name": "stdout",
     "output_type": "stream",
     "text": [
      "   longitude  latitude  housing_median_age  total_rooms  total_bedrooms  \\\n",
      "0    -122.23     37.88                  41          880           129.0   \n",
      "1    -122.22     37.86                  21         7099          1106.0   \n",
      "2    -122.24     37.85                  52         1467           190.0   \n",
      "3    -122.25     37.85                  52         1274           235.0   \n",
      "4    -122.25     37.85                  52         1627           280.0   \n",
      "5    -122.25     37.85                  52          919           213.0   \n",
      "6    -122.25     37.84                  52         2535           489.0   \n",
      "7    -122.25     37.84                  52         3104           687.0   \n",
      "8    -122.26     37.84                  42         2555           665.0   \n",
      "9    -122.25     37.84                  52         3549           707.0   \n",
      "\n",
      "   population  households  median_income ocean_proximity  median_house_value  \n",
      "0         322         126         8.3252        NEAR BAY              452600  \n",
      "1        2401        1138         8.3014        NEAR BAY              358500  \n",
      "2         496         177         7.2574        NEAR BAY              352100  \n",
      "3         558         219         5.6431        NEAR BAY              341300  \n",
      "4         565         259         3.8462        NEAR BAY              342200  \n",
      "5         413         193         4.0368        NEAR BAY              269700  \n",
      "6        1094         514         3.6591        NEAR BAY              299200  \n",
      "7        1157         647         3.1200        NEAR BAY              241400  \n",
      "8        1206         595         2.0804        NEAR BAY              226700  \n",
      "9        1551         714         3.6912        NEAR BAY              261100  \n",
      "(20640, 10)\n"
     ]
    }
   ],
   "source": [
    "mydata = pd.read_excel(\"1553768847_housing.xlsx\")\n",
    "print(mydata.head(10))\n",
    "print(mydata.shape)"
   ]
  },
  {
   "cell_type": "code",
   "execution_count": 34,
   "metadata": {},
   "outputs": [
    {
     "data": {
      "text/html": [
       "<div>\n",
       "<style scoped>\n",
       "    .dataframe tbody tr th:only-of-type {\n",
       "        vertical-align: middle;\n",
       "    }\n",
       "\n",
       "    .dataframe tbody tr th {\n",
       "        vertical-align: top;\n",
       "    }\n",
       "\n",
       "    .dataframe thead th {\n",
       "        text-align: right;\n",
       "    }\n",
       "</style>\n",
       "<table border=\"1\" class=\"dataframe\">\n",
       "  <thead>\n",
       "    <tr style=\"text-align: right;\">\n",
       "      <th></th>\n",
       "      <th>longitude</th>\n",
       "      <th>latitude</th>\n",
       "      <th>housing_median_age</th>\n",
       "      <th>total_rooms</th>\n",
       "      <th>total_bedrooms</th>\n",
       "      <th>population</th>\n",
       "      <th>households</th>\n",
       "      <th>median_income</th>\n",
       "      <th>ocean_proximity</th>\n",
       "      <th>median_house_value</th>\n",
       "    </tr>\n",
       "  </thead>\n",
       "  <tbody>\n",
       "    <tr>\n",
       "      <th>0</th>\n",
       "      <td>-122.23</td>\n",
       "      <td>37.88</td>\n",
       "      <td>41</td>\n",
       "      <td>880</td>\n",
       "      <td>129.0</td>\n",
       "      <td>322</td>\n",
       "      <td>126</td>\n",
       "      <td>8.3252</td>\n",
       "      <td>NEAR BAY</td>\n",
       "      <td>452600</td>\n",
       "    </tr>\n",
       "    <tr>\n",
       "      <th>1</th>\n",
       "      <td>-122.22</td>\n",
       "      <td>37.86</td>\n",
       "      <td>21</td>\n",
       "      <td>7099</td>\n",
       "      <td>1106.0</td>\n",
       "      <td>2401</td>\n",
       "      <td>1138</td>\n",
       "      <td>8.3014</td>\n",
       "      <td>NEAR BAY</td>\n",
       "      <td>358500</td>\n",
       "    </tr>\n",
       "    <tr>\n",
       "      <th>2</th>\n",
       "      <td>-122.24</td>\n",
       "      <td>37.85</td>\n",
       "      <td>52</td>\n",
       "      <td>1467</td>\n",
       "      <td>190.0</td>\n",
       "      <td>496</td>\n",
       "      <td>177</td>\n",
       "      <td>7.2574</td>\n",
       "      <td>NEAR BAY</td>\n",
       "      <td>352100</td>\n",
       "    </tr>\n",
       "    <tr>\n",
       "      <th>3</th>\n",
       "      <td>-122.25</td>\n",
       "      <td>37.85</td>\n",
       "      <td>52</td>\n",
       "      <td>1274</td>\n",
       "      <td>235.0</td>\n",
       "      <td>558</td>\n",
       "      <td>219</td>\n",
       "      <td>5.6431</td>\n",
       "      <td>NEAR BAY</td>\n",
       "      <td>341300</td>\n",
       "    </tr>\n",
       "    <tr>\n",
       "      <th>4</th>\n",
       "      <td>-122.25</td>\n",
       "      <td>37.85</td>\n",
       "      <td>52</td>\n",
       "      <td>1627</td>\n",
       "      <td>280.0</td>\n",
       "      <td>565</td>\n",
       "      <td>259</td>\n",
       "      <td>3.8462</td>\n",
       "      <td>NEAR BAY</td>\n",
       "      <td>342200</td>\n",
       "    </tr>\n",
       "  </tbody>\n",
       "</table>\n",
       "</div>"
      ],
      "text/plain": [
       "   longitude  latitude  housing_median_age  total_rooms  total_bedrooms  \\\n",
       "0    -122.23     37.88                  41          880           129.0   \n",
       "1    -122.22     37.86                  21         7099          1106.0   \n",
       "2    -122.24     37.85                  52         1467           190.0   \n",
       "3    -122.25     37.85                  52         1274           235.0   \n",
       "4    -122.25     37.85                  52         1627           280.0   \n",
       "\n",
       "   population  households  median_income ocean_proximity  median_house_value  \n",
       "0         322         126         8.3252        NEAR BAY              452600  \n",
       "1        2401        1138         8.3014        NEAR BAY              358500  \n",
       "2         496         177         7.2574        NEAR BAY              352100  \n",
       "3         558         219         5.6431        NEAR BAY              341300  \n",
       "4         565         259         3.8462        NEAR BAY              342200  "
      ]
     },
     "execution_count": 34,
     "metadata": {},
     "output_type": "execute_result"
    }
   ],
   "source": [
    "mydata.head()"
   ]
  },
  {
   "cell_type": "code",
   "execution_count": 11,
   "metadata": {},
   "outputs": [
    {
     "name": "stderr",
     "output_type": "stream",
     "text": [
      "C:\\Users\\Nihal\\Anaconda3\\lib\\site-packages\\sklearn\\utils\\deprecation.py:58: DeprecationWarning: Class Imputer is deprecated; Imputer was deprecated in version 0.20 and will be removed in 0.22. Import impute.SimpleImputer from sklearn instead.\n",
      "  warnings.warn(msg, category=DeprecationWarning)\n"
     ]
    }
   ],
   "source": [
    " from sklearn.preprocessing import Imputer\n",
    "imputer = Imputer()\n",
    "mydata[['total_bedrooms']]=imputer.fit_transform(mydata[['total_bedrooms']])"
   ]
  },
  {
   "cell_type": "code",
   "execution_count": 4,
   "metadata": {},
   "outputs": [],
   "source": [
    " iv = mydata[['longitude','latitude','housing_median_age','total_rooms','total_bedrooms','population','ocean_proximity','households','median_income']]\n",
    "dv=mydata[['median_house_value']]"
   ]
  },
  {
   "cell_type": "code",
   "execution_count": 5,
   "metadata": {},
   "outputs": [],
   "source": [
    "iv=pd.get_dummies(iv,drop_first=True)"
   ]
  },
  {
   "cell_type": "code",
   "execution_count": 6,
   "metadata": {},
   "outputs": [],
   "source": [
    " from sklearn.model_selection import train_test_split\n",
    "iv_train , iv_test , dv_train , dv_test = train_test_split(iv,dv,test_size=0.2, random_state=0)"
   ]
  },
  {
   "cell_type": "code",
   "execution_count": 7,
   "metadata": {},
   "outputs": [
    {
     "data": {
      "text/plain": [
       "LinearRegression(copy_X=True, fit_intercept=True, n_jobs=None,\n",
       "         normalize=False)"
      ]
     },
     "execution_count": 7,
     "metadata": {},
     "output_type": "execute_result"
    }
   ],
   "source": [
    " from sklearn.linear_model import LinearRegression\n",
    "lin_regressor = LinearRegression()\n",
    "lin_regressor.fit(iv_train,dv_train)"
   ]
  },
  {
   "cell_type": "code",
   "execution_count": 22,
   "metadata": {},
   "outputs": [],
   "source": [
    "result_train = pd.DataFrame()\n",
    "result_train[['Actual Profit']]=result_train.append(dv_train[['median_house_value']],ignore_index=True)\n",
    "result_train['Linear Predictions']= lin_regressor.predict(iv_train)"
   ]
  },
  {
   "cell_type": "code",
   "execution_count": 23,
   "metadata": {},
   "outputs": [],
   "source": [
    "result_test = pd.DataFrame()\n",
    "result_test[['Actual Profit']]=result_test.append(dv_test[['median_house_value']],ignore_index=True)\n",
    "result_test['Linear Predictions']= lin_regressor.predict(iv_test)"
   ]
  },
  {
   "cell_type": "code",
   "execution_count": 25,
   "metadata": {},
   "outputs": [],
   "source": [
    "def mape(actual,predicted) :\n",
    "    return round((np.mean(abs(actual-predicted)/actual))*100,2)\n",
    "\n",
    "def mae(actual,predicted) :\n",
    "    return round(np.mean(abs(actual-predicted)),2)\n",
    "\n",
    "\n",
    "def rmse(actual,predicted) :\n",
    "     return round(np.sqrt(np.mean((actual-predicted)**2)),2)"
   ]
  },
  {
   "cell_type": "code",
   "execution_count": 26,
   "metadata": {},
   "outputs": [
    {
     "name": "stdout",
     "output_type": "stream",
     "text": [
      "For the Linear Model\n",
      "The Mape of the train is : 28.74 %\n",
      "The Mape of the test is  : 29.0 %\n",
      "The Mean Average Error of train is : 49910.01\n",
      "The Mean Average Error of test is  : 49697.07\n",
      "The RMSE of the train is : 68717.8\n",
      "The RMSE of the test is  : 68689.21\n"
     ]
    }
   ],
   "source": [
    "print(\"For the Linear Model\")\n",
    "print(\"The Mape of the train is :\" ,mape(result_train['Actual Profit'],result_train['Linear Predictions']),\"%\")\n",
    "print(\"The Mape of the test is  :\" ,mape(result_test['Actual Profit'],result_test['Linear Predictions']),\"%\")\n",
    "\n",
    "print(\"The Mean Average Error of train is :\" ,mae(result_train['Actual Profit'],result_train['Linear Predictions']))\n",
    "print(\"The Mean Average Error of test is  :\" ,mae(result_test['Actual Profit'],result_test['Linear Predictions']))\n",
    "\n",
    "print(\"The RMSE of the train is :\" ,rmse(result_train['Actual Profit'],result_train['Linear Predictions']))\n",
    "print(\"The RMSE of the test is  :\" ,rmse(result_test['Actual Profit'],result_test['Linear Predictions']))\n"
   ]
  },
  {
   "cell_type": "code",
   "execution_count": 27,
   "metadata": {},
   "outputs": [
    {
     "data": {
      "text/plain": [
       "DecisionTreeRegressor(criterion='mse', max_depth=None, max_features=None,\n",
       "           max_leaf_nodes=None, min_impurity_decrease=0.0,\n",
       "           min_impurity_split=None, min_samples_leaf=1,\n",
       "           min_samples_split=2, min_weight_fraction_leaf=0.0,\n",
       "           presort=False, random_state=None, splitter='best')"
      ]
     },
     "execution_count": 27,
     "metadata": {},
     "output_type": "execute_result"
    }
   ],
   "source": [
    "## Decision Tree Prediction\n",
    "\n",
    "from sklearn.tree import DecisionTreeRegressor\n",
    "dt_regressor = DecisionTreeRegressor()\n",
    "dt_regressor.fit(iv_train,dv_train)"
   ]
  },
  {
   "cell_type": "code",
   "execution_count": 28,
   "metadata": {},
   "outputs": [],
   "source": [
    "#Fitting predicted values \n",
    "result_train['DT Predictions']= dt_regressor.predict(iv_train)\n",
    "result_test['DT Predictions']= dt_regressor.predict(iv_test)\n"
   ]
  },
  {
   "cell_type": "code",
   "execution_count": 29,
   "metadata": {},
   "outputs": [
    {
     "name": "stdout",
     "output_type": "stream",
     "text": [
      "For the DT Model\n",
      "The Mape of the train is : 0.0 %\n",
      "The Mape of the test is  : 24.45 %\n",
      "The Mean Average Error of train is : 0.0\n",
      "The Mean Average Error of test is  : 43410.34\n",
      "The RMSE of the train is : 0.0\n",
      "The RMSE of the test is  : 69000.53\n"
     ]
    }
   ],
   "source": [
    "## Evaluation of the Linear Model\n",
    "print(\"For the DT Model\")\n",
    "print(\"The Mape of the train is :\" ,mape(result_train['Actual Profit'],result_train['DT Predictions']),\"%\")\n",
    "print(\"The Mape of the test is  :\" ,mape(result_test['Actual Profit'],result_test['DT Predictions']),\"%\")\n",
    "\n",
    "print(\"The Mean Average Error of train is :\" ,mae(result_train['Actual Profit'],result_train['DT Predictions']))\n",
    "print(\"The Mean Average Error of test is  :\" ,mae(result_test['Actual Profit'],result_test['DT Predictions']))\n",
    "\n",
    "print(\"The RMSE of the train is :\" ,rmse(result_train['Actual Profit'],result_train['DT Predictions']))\n",
    "print(\"The RMSE of the test is  :\" ,rmse(result_test['Actual Profit'],result_test['DT Predictions']))"
   ]
  },
  {
   "cell_type": "code",
   "execution_count": 30,
   "metadata": {},
   "outputs": [
    {
     "name": "stderr",
     "output_type": "stream",
     "text": [
      "C:\\Users\\Nihal\\Anaconda3\\lib\\site-packages\\sklearn\\ensemble\\forest.py:246: FutureWarning: The default value of n_estimators will change from 10 in version 0.20 to 100 in 0.22.\n",
      "  \"10 in version 0.20 to 100 in 0.22.\", FutureWarning)\n",
      "C:\\Users\\Nihal\\Anaconda3\\lib\\site-packages\\ipykernel_launcher.py:5: DataConversionWarning: A column-vector y was passed when a 1d array was expected. Please change the shape of y to (n_samples,), for example using ravel().\n",
      "  \"\"\"\n"
     ]
    },
    {
     "data": {
      "text/plain": [
       "RandomForestRegressor(bootstrap=True, criterion='mse', max_depth=None,\n",
       "           max_features='auto', max_leaf_nodes=None,\n",
       "           min_impurity_decrease=0.0, min_impurity_split=None,\n",
       "           min_samples_leaf=1, min_samples_split=2,\n",
       "           min_weight_fraction_leaf=0.0, n_estimators=10, n_jobs=None,\n",
       "           oob_score=False, random_state=None, verbose=0, warm_start=False)"
      ]
     },
     "execution_count": 30,
     "metadata": {},
     "output_type": "execute_result"
    }
   ],
   "source": [
    "## Random Forest Predictions\n",
    "\n",
    "from sklearn.ensemble import RandomForestRegressor\n",
    "rf_regressor = RandomForestRegressor()\n",
    "rf_regressor.fit(iv_train,dv_train)"
   ]
  },
  {
   "cell_type": "code",
   "execution_count": 31,
   "metadata": {},
   "outputs": [],
   "source": [
    "\n",
    "#Fitting predicted values \n",
    "result_train['RF Predictions']= rf_regressor.predict(iv_train)\n",
    "result_test['RF Predictions']= rf_regressor.predict(iv_test)\n"
   ]
  },
  {
   "cell_type": "code",
   "execution_count": 32,
   "metadata": {},
   "outputs": [
    {
     "name": "stdout",
     "output_type": "stream",
     "text": [
      "For the RF Model\n",
      "The Mape of the train is : 7.3 %\n",
      "The Mape of the test is  : 18.95 %\n",
      "The Mean Average Error of train is : 13198.23\n",
      "The Mean Average Error of test is  : 33409.29\n",
      "The RMSE of the train is : 21480.52\n",
      "The RMSE of the test is  : 50469.86\n"
     ]
    }
   ],
   "source": [
    "## Evaluation of the Linear Model\n",
    "print(\"For the RF Model\")\n",
    "print(\"The Mape of the train is :\" ,mape(result_train['Actual Profit'],result_train['RF Predictions']),\"%\")\n",
    "print(\"The Mape of the test is  :\" ,mape(result_test['Actual Profit'],result_test['RF Predictions']),\"%\")\n",
    "\n",
    "print(\"The Mean Average Error of train is :\" ,mae(result_train['Actual Profit'],result_train['RF Predictions']))\n",
    "print(\"The Mean Average Error of test is  :\" ,mae(result_test['Actual Profit'],result_test['RF Predictions']))\n",
    "\n",
    "print(\"The RMSE of the train is :\" ,rmse(result_train['Actual Profit'],result_train['RF Predictions']))\n",
    "print(\"The RMSE of the test is  :\" ,rmse(result_test['Actual Profit'],result_test['RF Predictions']))"
   ]
  },
  {
   "cell_type": "code",
   "execution_count": null,
   "metadata": {},
   "outputs": [],
   "source": []
  }
 ],
 "metadata": {
  "kernelspec": {
   "display_name": "Python 3",
   "language": "python",
   "name": "python3"
  },
  "language_info": {
   "codemirror_mode": {
    "name": "ipython",
    "version": 3
   },
   "file_extension": ".py",
   "mimetype": "text/x-python",
   "name": "python",
   "nbconvert_exporter": "python",
   "pygments_lexer": "ipython3",
   "version": "3.7.1"
  }
 },
 "nbformat": 4,
 "nbformat_minor": 2
}
